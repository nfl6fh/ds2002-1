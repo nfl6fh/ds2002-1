{
 "cells": [
  {
   "cell_type": "code",
   "execution_count": 2,
   "metadata": {},
   "outputs": [
    {
     "name": "stdout",
     "output_type": "stream",
     "text": [
      "Defaulting to user installation because normal site-packages is not writeable\n",
      "Collecting requests\n",
      "  Downloading requests-2.28.1-py3-none-any.whl (62 kB)\n",
      "\u001b[K     |████████████████████████████████| 62 kB 933 kB/s eta 0:00:011\n",
      "\u001b[?25hCollecting certifi>=2017.4.17\n",
      "  Using cached certifi-2022.9.24-py3-none-any.whl (161 kB)\n",
      "Collecting urllib3<1.27,>=1.21.1\n",
      "  Using cached urllib3-1.26.12-py2.py3-none-any.whl (140 kB)\n",
      "Collecting charset-normalizer<3,>=2\n",
      "  Downloading charset_normalizer-2.1.1-py3-none-any.whl (39 kB)\n",
      "Collecting idna<4,>=2.5\n",
      "  Using cached idna-3.4-py3-none-any.whl (61 kB)\n",
      "Installing collected packages: urllib3, idna, charset-normalizer, certifi, requests\n",
      "\u001b[33m  WARNING: The script normalizer is installed in '/Users/nathanlindley/Library/Python/3.9/bin' which is not on PATH.\n",
      "  Consider adding this directory to PATH or, if you prefer to suppress this warning, use --no-warn-script-location.\u001b[0m\n",
      "Successfully installed certifi-2022.9.24 charset-normalizer-2.1.1 idna-3.4 requests-2.28.1 urllib3-1.26.12\n",
      "\u001b[33mWARNING: You are using pip version 21.2.4; however, version 22.2.2 is available.\n",
      "You should consider upgrading via the '/Applications/Xcode.app/Contents/Developer/usr/bin/python3 -m pip install --upgrade pip' command.\u001b[0m\n",
      "Note: you may need to restart the kernel to use updated packages.\n",
      "Defaulting to user installation because normal site-packages is not writeable\n",
      "Collecting pandas\n",
      "  Downloading pandas-1.5.0-cp39-cp39-macosx_10_9_x86_64.whl (12.1 MB)\n",
      "\u001b[K     |████████████████████████████████| 12.1 MB 7.1 MB/s eta 0:00:01\n",
      "\u001b[?25hCollecting pytz>=2020.1\n",
      "  Downloading pytz-2022.4-py2.py3-none-any.whl (500 kB)\n",
      "\u001b[K     |████████████████████████████████| 500 kB 26.2 MB/s eta 0:00:01\n",
      "\u001b[?25hRequirement already satisfied: python-dateutil>=2.8.1 in /Users/nathanlindley/Library/Python/3.9/lib/python/site-packages (from pandas) (2.8.2)\n",
      "Collecting numpy>=1.20.3\n",
      "  Downloading numpy-1.23.4-cp39-cp39-macosx_10_9_x86_64.whl (18.1 MB)\n",
      "\u001b[K     |████████████████████████████████| 18.1 MB 31.6 MB/s eta 0:00:01\n",
      "\u001b[?25hRequirement already satisfied: six>=1.5 in /Applications/Xcode.app/Contents/Developer/Library/Frameworks/Python3.framework/Versions/3.9/lib/python3.9/site-packages (from python-dateutil>=2.8.1->pandas) (1.15.0)\n",
      "Installing collected packages: pytz, numpy, pandas\n",
      "\u001b[33m  WARNING: The scripts f2py, f2py3 and f2py3.9 are installed in '/Users/nathanlindley/Library/Python/3.9/bin' which is not on PATH.\n",
      "  Consider adding this directory to PATH or, if you prefer to suppress this warning, use --no-warn-script-location.\u001b[0m\n",
      "Successfully installed numpy-1.23.4 pandas-1.5.0 pytz-2022.4\n",
      "\u001b[33mWARNING: You are using pip version 21.2.4; however, version 22.2.2 is available.\n",
      "You should consider upgrading via the '/Applications/Xcode.app/Contents/Developer/usr/bin/python3 -m pip install --upgrade pip' command.\u001b[0m\n",
      "Note: you may need to restart the kernel to use updated packages.\n",
      "Defaulting to user installation because normal site-packages is not writeable\n",
      "Collecting matplotlib\n",
      "  Downloading matplotlib-3.6.1-cp39-cp39-macosx_10_12_x86_64.whl (7.3 MB)\n",
      "\u001b[K     |████████████████████████████████| 7.3 MB 7.6 MB/s eta 0:00:01\n",
      "\u001b[?25hCollecting pillow>=6.2.0\n",
      "  Downloading Pillow-9.2.0-cp39-cp39-macosx_10_10_x86_64.whl (3.1 MB)\n",
      "\u001b[K     |████████████████████████████████| 3.1 MB 9.3 MB/s eta 0:00:01\n",
      "\u001b[?25hRequirement already satisfied: pyparsing>=2.2.1 in /Users/nathanlindley/Library/Python/3.9/lib/python/site-packages (from matplotlib) (3.0.9)\n",
      "Collecting fonttools>=4.22.0\n",
      "  Downloading fonttools-4.37.4-py3-none-any.whl (960 kB)\n",
      "\u001b[K     |████████████████████████████████| 960 kB 9.5 MB/s eta 0:00:01\n",
      "\u001b[?25hRequirement already satisfied: numpy>=1.19 in /Users/nathanlindley/Library/Python/3.9/lib/python/site-packages (from matplotlib) (1.23.4)\n",
      "Collecting kiwisolver>=1.0.1\n",
      "  Downloading kiwisolver-1.4.4-cp39-cp39-macosx_10_9_x86_64.whl (65 kB)\n",
      "\u001b[K     |████████████████████████████████| 65 kB 8.6 MB/s  eta 0:00:01\n",
      "\u001b[?25hCollecting contourpy>=1.0.1\n",
      "  Downloading contourpy-1.0.5-cp39-cp39-macosx_10_9_x86_64.whl (241 kB)\n",
      "\u001b[K     |████████████████████████████████| 241 kB 28.6 MB/s eta 0:00:01\n",
      "\u001b[?25hRequirement already satisfied: python-dateutil>=2.7 in /Users/nathanlindley/Library/Python/3.9/lib/python/site-packages (from matplotlib) (2.8.2)\n",
      "Collecting cycler>=0.10\n",
      "  Using cached cycler-0.11.0-py3-none-any.whl (6.4 kB)\n",
      "Requirement already satisfied: packaging>=20.0 in /Users/nathanlindley/Library/Python/3.9/lib/python/site-packages (from matplotlib) (21.3)\n",
      "Requirement already satisfied: six>=1.5 in /Applications/Xcode.app/Contents/Developer/Library/Frameworks/Python3.framework/Versions/3.9/lib/python3.9/site-packages (from python-dateutil>=2.7->matplotlib) (1.15.0)\n",
      "Installing collected packages: pillow, kiwisolver, fonttools, cycler, contourpy, matplotlib\n",
      "\u001b[33m  WARNING: The scripts fonttools, pyftmerge, pyftsubset and ttx are installed in '/Users/nathanlindley/Library/Python/3.9/bin' which is not on PATH.\n",
      "  Consider adding this directory to PATH or, if you prefer to suppress this warning, use --no-warn-script-location.\u001b[0m\n",
      "Successfully installed contourpy-1.0.5 cycler-0.11.0 fonttools-4.37.4 kiwisolver-1.4.4 matplotlib-3.6.1 pillow-9.2.0\n",
      "\u001b[33mWARNING: You are using pip version 21.2.4; however, version 22.2.2 is available.\n",
      "You should consider upgrading via the '/Applications/Xcode.app/Contents/Developer/usr/bin/python3 -m pip install --upgrade pip' command.\u001b[0m\n",
      "Note: you may need to restart the kernel to use updated packages.\n"
     ]
    }
   ],
   "source": [
    "%pip install requests\n",
    "%pip install pandas\n",
    "%pip install matplotlib"
   ]
  },
  {
   "cell_type": "code",
   "execution_count": 3,
   "metadata": {},
   "outputs": [],
   "source": [
    "import requests\n",
    "import pandas as pd\n",
    "import json\n",
    "import matplotlib.pyplot as plt"
   ]
  },
  {
   "cell_type": "code",
   "execution_count": 17,
   "metadata": {},
   "outputs": [],
   "source": [
    "stock = input(\"What stock would you like to look up? \")\n",
    "stock = 'zdsvasfgerdfd'"
   ]
  },
  {
   "cell_type": "code",
   "execution_count": 4,
   "metadata": {},
   "outputs": [],
   "source": [
    "symbols = 'GOOGL'\n",
    "url = f\"https://query1.finance.yahoo.com/v7/finance/quote?symbols=googl\"\n",
    "header_var ={\n",
    "    'User-Agent': 'Mozilla/5.0 (Macintosh; Intel Mac OS X 10_10_1) AppleWebKit/537.36'\n",
    "    ' (KHTML, like Gecko) Chrome/39.0.2171.95 Safari/537.36'\n",
    "}"
   ]
  },
  {
   "cell_type": "code",
   "execution_count": 5,
   "metadata": {},
   "outputs": [
    {
     "data": {
      "text/plain": [
       "{'result': [{'language': 'en-US',\n",
       "   'region': 'US',\n",
       "   'quoteType': 'EQUITY',\n",
       "   'typeDisp': 'Equity',\n",
       "   'quoteSourceName': 'Delayed Quote',\n",
       "   'triggerable': True,\n",
       "   'customPriceAlertConfidence': 'HIGH',\n",
       "   'currency': 'USD',\n",
       "   'marketState': 'CLOSED',\n",
       "   'regularMarketChangePercent': -2.5237231,\n",
       "   'regularMarketPrice': 96.56,\n",
       "   'exchangeTimezoneShortName': 'EDT',\n",
       "   'gmtOffSetMilliseconds': -14400000,\n",
       "   'market': 'us_market',\n",
       "   'esgPopulated': False,\n",
       "   'exchange': 'NMS',\n",
       "   'shortName': 'Alphabet Inc.',\n",
       "   'longName': 'Alphabet Inc.',\n",
       "   'messageBoardId': 'finmb_29096',\n",
       "   'exchangeTimezoneName': 'America/New_York',\n",
       "   'sharesOutstanding': 5996000256,\n",
       "   'bookValue': 19.53,\n",
       "   'fiftyDayAverage': 107.353,\n",
       "   'fiftyDayAverageChange': -10.792999,\n",
       "   'fiftyDayAverageChangePercent': -0.10053748,\n",
       "   'twoHundredDayAverage': 120.49388,\n",
       "   'twoHundredDayAverageChange': -23.933884,\n",
       "   'twoHundredDayAverageChangePercent': -0.19863153,\n",
       "   'marketCap': 1263429615616,\n",
       "   'forwardPE': 16.31081,\n",
       "   'priceToBook': 4.944188,\n",
       "   'sourceInterval': 15,\n",
       "   'exchangeDataDelayedBy': 0,\n",
       "   'averageAnalystRating': '1.8 - Buy',\n",
       "   'tradeable': False,\n",
       "   'cryptoTradeable': False,\n",
       "   'firstTradeDateMilliseconds': 1092922200000,\n",
       "   'priceHint': 2,\n",
       "   'postMarketChangePercent': -0.18641292,\n",
       "   'postMarketTime': 1665791997,\n",
       "   'postMarketPrice': 96.38,\n",
       "   'postMarketChange': -0.1800003,\n",
       "   'regularMarketChange': -2.5,\n",
       "   'regularMarketTime': 1665777603,\n",
       "   'regularMarketDayHigh': 100.69,\n",
       "   'regularMarketDayRange': '96.37 - 100.69',\n",
       "   'regularMarketDayLow': 96.37,\n",
       "   'regularMarketVolume': 25410674,\n",
       "   'regularMarketPreviousClose': 99.06,\n",
       "   'bid': 96.31,\n",
       "   'ask': 96.38,\n",
       "   'bidSize': 8,\n",
       "   'askSize': 31,\n",
       "   'fullExchangeName': 'NasdaqGS',\n",
       "   'financialCurrency': 'USD',\n",
       "   'regularMarketOpen': 99.99,\n",
       "   'averageDailyVolume3Month': 28029414,\n",
       "   'averageDailyVolume10Day': 25538670,\n",
       "   'fiftyTwoWeekLowChange': 2.1800003,\n",
       "   'fiftyTwoWeekLowChangePercent': 0.023098119,\n",
       "   'fiftyTwoWeekRange': '94.38 - 151.5465',\n",
       "   'fiftyTwoWeekHighChange': -54.986496,\n",
       "   'fiftyTwoWeekHighChangePercent': -0.36283582,\n",
       "   'fiftyTwoWeekLow': 94.38,\n",
       "   'fiftyTwoWeekHigh': 151.5465,\n",
       "   'earningsTimestamp': 1658865600,\n",
       "   'earningsTimestampStart': 1666641600,\n",
       "   'earningsTimestampEnd': 1666987200,\n",
       "   'trailingAnnualDividendRate': 0.0,\n",
       "   'trailingPE': 17.717432,\n",
       "   'trailingAnnualDividendYield': 0.0,\n",
       "   'epsTrailingTwelveMonths': 5.45,\n",
       "   'epsForward': 5.92,\n",
       "   'epsCurrentYear': 5.13,\n",
       "   'priceEpsCurrentYear': 18.82261,\n",
       "   'symbol': 'GOOGL'}],\n",
       " 'error': None}"
      ]
     },
     "execution_count": 5,
     "metadata": {},
     "output_type": "execute_result"
    }
   ],
   "source": [
    "r = requests.get(url, headers=header_var)\n",
    "r_json = r.json()\n",
    "r.status_code\n",
    "(r_json['quoteResponse'])"
   ]
  },
  {
   "cell_type": "code",
   "execution_count": 21,
   "metadata": {},
   "outputs": [
    {
     "ename": "IndexError",
     "evalue": "list index out of range",
     "output_type": "error",
     "traceback": [
      "\u001b[0;31m---------------------------------------------------------------------------\u001b[0m",
      "\u001b[0;31mIndexError\u001b[0m                                Traceback (most recent call last)",
      "Cell \u001b[0;32mIn [21], line 1\u001b[0m\n\u001b[0;32m----> 1\u001b[0m r_json0 \u001b[38;5;241m=\u001b[39m \u001b[43mr_json\u001b[49m\u001b[43m[\u001b[49m\u001b[38;5;124;43m'\u001b[39;49m\u001b[38;5;124;43mquoteResponse\u001b[39;49m\u001b[38;5;124;43m'\u001b[39;49m\u001b[43m]\u001b[49m\u001b[43m[\u001b[49m\u001b[38;5;124;43m'\u001b[39;49m\u001b[38;5;124;43mresult\u001b[39;49m\u001b[38;5;124;43m'\u001b[39;49m\u001b[43m]\u001b[49m\u001b[43m[\u001b[49m\u001b[38;5;241;43m0\u001b[39;49m\u001b[43m]\u001b[49m\n\u001b[1;32m      2\u001b[0m r_json0\n",
      "\u001b[0;31mIndexError\u001b[0m: list index out of range"
     ]
    }
   ],
   "source": [
    "r_json0 = r_json['quoteResponse']['result'][0]\n",
    "r_json0"
   ]
  },
  {
   "cell_type": "code",
   "execution_count": 11,
   "metadata": {
    "collapsed": true
   },
   "outputs": [
    {
     "name": "stdout",
     "output_type": "stream",
     "text": [
      "Apple Inc.\n",
      "AAPL\n"
     ]
    }
   ],
   "source": [
    "interested_fields = ['symbol', 'longName', 'regularMarketPrice', '']\n",
    "for field in interested_fields:\n",
    "    print(r_json0.get(field))"
   ]
  },
  {
   "cell_type": "code",
   "execution_count": 16,
   "metadata": {},
   "outputs": [
    {
     "data": {
      "text/plain": [
       "200"
      ]
     },
     "execution_count": 16,
     "metadata": {},
     "output_type": "execute_result"
    }
   ],
   "source": [
    "r.status_code"
   ]
  },
  {
   "cell_type": "code",
   "execution_count": 44,
   "metadata": {},
   "outputs": [],
   "source": [
    "url1 = f\"https://query1.finance.yahoo.com/v11/finance/quoteSummary/googl?modules=financialData\"\n",
    "r1 = requests.get(url1, headers=header_var)"
   ]
  },
  {
   "cell_type": "code",
   "execution_count": 45,
   "metadata": {},
   "outputs": [
    {
     "data": {
      "text/plain": [
       "200"
      ]
     },
     "execution_count": 45,
     "metadata": {},
     "output_type": "execute_result"
    }
   ],
   "source": [
    "r1.status_code"
   ]
  },
  {
   "cell_type": "code",
   "execution_count": 47,
   "metadata": {},
   "outputs": [
    {
     "data": {
      "text/plain": [
       "{'maxAge': 86400,\n",
       " 'currentPrice': {'raw': 98.96, 'fmt': '98.96'},\n",
       " 'targetHighPrice': {'raw': 187.5, 'fmt': '187.50'},\n",
       " 'targetLowPrice': {'raw': 100.0, 'fmt': '100.00'},\n",
       " 'targetMeanPrice': {'raw': 141.56, 'fmt': '141.56'},\n",
       " 'targetMedianPrice': {'raw': 140.0, 'fmt': '140.00'},\n",
       " 'recommendationMean': {'raw': 1.8, 'fmt': '1.80'},\n",
       " 'recommendationKey': 'buy',\n",
       " 'numberOfAnalystOpinions': {'raw': 43, 'fmt': '43', 'longFmt': '43'},\n",
       " 'totalCash': {'raw': 124997001216,\n",
       "  'fmt': '125B',\n",
       "  'longFmt': '124,997,001,216'},\n",
       " 'totalCashPerShare': {'raw': 9.583, 'fmt': '9.58'},\n",
       " 'ebitda': {'raw': 96886996992, 'fmt': '96.89B', 'longFmt': '96,886,996,992'},\n",
       " 'totalDebt': {'raw': 28810000384,\n",
       "  'fmt': '28.81B',\n",
       "  'longFmt': '28,810,000,384'},\n",
       " 'quickRatio': {'raw': 2.642, 'fmt': '2.64'},\n",
       " 'currentRatio': {'raw': 2.809, 'fmt': '2.81'},\n",
       " 'totalRevenue': {'raw': 278139011072,\n",
       "  'fmt': '278.14B',\n",
       "  'longFmt': '278,139,011,072'},\n",
       " 'debtToEquity': {'raw': 11.28, 'fmt': '11.28'},\n",
       " 'revenuePerShare': {'raw': 21.03, 'fmt': '21.03'},\n",
       " 'returnOnAssets': {'raw': 0.14927, 'fmt': '14.93%'},\n",
       " 'returnOnEquity': {'raw': 0.29216, 'fmt': '29.22%'},\n",
       " 'grossProfits': {'raw': 146698000000,\n",
       "  'fmt': '146.7B',\n",
       "  'longFmt': '146,698,000,000'},\n",
       " 'freeCashflow': {'raw': 51070373888,\n",
       "  'fmt': '51.07B',\n",
       "  'longFmt': '51,070,373,888'},\n",
       " 'operatingCashflow': {'raw': 95001001984,\n",
       "  'fmt': '95B',\n",
       "  'longFmt': '95,001,001,984'},\n",
       " 'earningsGrowth': {'raw': -0.113, 'fmt': '-11.30%'},\n",
       " 'revenueGrowth': {'raw': 0.126, 'fmt': '12.60%'},\n",
       " 'grossMargins': {'raw': 0.56744, 'fmt': '56.74%'},\n",
       " 'ebitdaMargins': {'raw': 0.34834, 'fmt': '34.83%'},\n",
       " 'operatingMargins': {'raw': 0.29648, 'fmt': '29.65%'},\n",
       " 'profitMargins': {'raw': 0.25892, 'fmt': '25.89%'},\n",
       " 'financialCurrency': 'USD'}"
      ]
     },
     "execution_count": 47,
     "metadata": {},
     "output_type": "execute_result"
    }
   ],
   "source": [
    "r1.json()['quoteSummary']['result'][0]['financialData']"
   ]
  },
  {
   "cell_type": "code",
   "execution_count": null,
   "metadata": {},
   "outputs": [],
   "source": []
  }
 ],
 "metadata": {
  "kernelspec": {
   "display_name": "Python 3.9.6 64-bit",
   "language": "python",
   "name": "python3"
  },
  "language_info": {
   "codemirror_mode": {
    "name": "ipython",
    "version": 3
   },
   "file_extension": ".py",
   "mimetype": "text/x-python",
   "name": "python",
   "nbconvert_exporter": "python",
   "pygments_lexer": "ipython3",
   "version": "3.9.6"
  },
  "vscode": {
   "interpreter": {
    "hash": "31f2aee4e71d21fbe5cf8b01ff0e069b9275f58929596ceb00d14d90e3e16cd6"
   }
  }
 },
 "nbformat": 4,
 "nbformat_minor": 4
}
